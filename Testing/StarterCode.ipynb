{
 "cells": [
  {
   "cell_type": "code",
   "execution_count": null,
   "id": "f212d752-ae7d-4e0b-a436-2355baefac3d",
   "metadata": {},
   "outputs": [],
   "source": [
    "# -----------------------------------------------------------\n",
    "# Query Script: Santa Cruz POI Data from Overture Maps (March 2025 Release)\n",
    "# Source: Overture Maps Foundation - https://docs.overturemaps.org/\n",
    "# Data Accessed via: AWS S3 + DuckDB + Jupyter SQL Magic\n",
    "# Author: Adam Axtopani Gonzales\n",
    "# Description: Retrieves Points of Interest (POIs) for Santa Cruz, CA,\n",
    "#              including name, category, and geometry, for mapping and analysis.\n",
    "# -----------------------------------------------------------\n"
   ]
  },
  {
   "cell_type": "code",
   "execution_count": 4,
   "id": "b17ebdc1-fa16-4c6d-b216-cbb93609613f",
   "metadata": {},
   "outputs": [],
   "source": [
    "# import our toolkit\n",
    "import pandas as pd\n",
    "import geopandas as gpd\n",
    "import duckdb\n",
    "from shapely import wkt"
   ]
  },
  {
   "cell_type": "code",
   "execution_count": 5,
   "id": "84c19974-d393-4bfb-a480-72c6d770289c",
   "metadata": {},
   "outputs": [],
   "source": [
    "# no need to import duckdb_engine, JupySQL will auto-detect driver \n",
    "# load (or reload) jupysql Jupyter extension to create SQL cells\n",
    "%reload_ext sql"
   ]
  },
  {
   "cell_type": "code",
   "execution_count": 6,
   "id": "60040e41-d2f3-4128-907a-617f3a2cebf2",
   "metadata": {},
   "outputs": [
    {
     "data": {
      "text/html": [
       "<span style=\"None\">Connecting to &#x27;duckdb://&#x27;</span>"
      ],
      "text/plain": [
       "Connecting to 'duckdb://'"
      ]
     },
     "metadata": {},
     "output_type": "display_data"
    }
   ],
   "source": [
    "# DuckDB in-memory database\n",
    "%sql duckdb://"
   ]
  },
  {
   "cell_type": "code",
   "execution_count": 7,
   "id": "cc67cb7c-98e3-42a9-9d20-a65de18460e2",
   "metadata": {},
   "outputs": [
    {
     "data": {
      "text/html": [
       "<span style=\"None\">Running query in &#x27;duckdb://&#x27;</span>"
      ],
      "text/plain": [
       "Running query in 'duckdb://'"
      ]
     },
     "metadata": {},
     "output_type": "display_data"
    },
    {
     "data": {
      "text/html": [
       "<span style=\"None\">Running query in &#x27;duckdb://&#x27;</span>"
      ],
      "text/plain": [
       "Running query in 'duckdb://'"
      ]
     },
     "metadata": {},
     "output_type": "display_data"
    },
    {
     "data": {
      "text/html": [
       "<span style=\"None\">Running query in &#x27;duckdb://&#x27;</span>"
      ],
      "text/plain": [
       "Running query in 'duckdb://'"
      ]
     },
     "metadata": {},
     "output_type": "display_data"
    },
    {
     "data": {
      "text/html": [
       "<span style=\"None\">Running query in &#x27;duckdb://&#x27;</span>"
      ],
      "text/plain": [
       "Running query in 'duckdb://'"
      ]
     },
     "metadata": {},
     "output_type": "display_data"
    },
    {
     "data": {
      "text/html": [
       "<span style=\"None\">Running query in &#x27;duckdb://&#x27;</span>"
      ],
      "text/plain": [
       "Running query in 'duckdb://'"
      ]
     },
     "metadata": {},
     "output_type": "display_data"
    },
    {
     "data": {
      "text/html": [
       "<table>\n",
       "    <thead>\n",
       "        <tr>\n",
       "            <th>Success</th>\n",
       "        </tr>\n",
       "    </thead>\n",
       "    <tbody>\n",
       "    </tbody>\n",
       "</table>"
      ],
      "text/plain": [
       "+---------+\n",
       "| Success |\n",
       "+---------+\n",
       "+---------+"
      ]
     },
     "execution_count": 7,
     "metadata": {},
     "output_type": "execute_result"
    }
   ],
   "source": [
    "%sql INSTALL spatial;\n",
    "%sql INSTALL httpfs;\n",
    "%sql LOAD spatial;\n",
    "%sql LOAD httpfs;\n",
    "%sql SET s3_region='us-west-2'"
   ]
  },
  {
   "cell_type": "code",
   "execution_count": 27,
   "id": "dc347247-7ede-4f40-b171-f2f0f946899f",
   "metadata": {},
   "outputs": [],
   "source": [
    "%config SqlMagic.autopandas = True\n",
    "%config SqlMagic.feedback = False\n",
    "%config SqlMagic.displaycon = False"
   ]
  },
  {
   "cell_type": "code",
   "execution_count": null,
   "id": "502ced07-5036-4fa4-9337-35b21bf98c08",
   "metadata": {},
   "outputs": [],
   "source": [
    "# This SQL query retrieves a sample of place data (Points of Interest) located in Santa Cruz, California\n",
    "# from the Overture Maps dataset, which is hosted publicly on AWS S3 in Parquet format. By filtering\n",
    "# with a geographic bounding box, it ensures that only locations within the Santa Cruz area are returned.\n",
    "# The query selects each place's unique ID, name, category, and geometry in a readable format. This data\n",
    "# is useful for mapping, categorization, and analysis of local points of interest, and can support further\n",
    "# tasks like building custom location-based services, visualizing urban infrastructure, or training\n",
    "# machine learning models for POI classification."
   ]
  },
  {
   "cell_type": "code",
   "execution_count": 22,
   "id": "e8e21f4a-91ae-43b7-87cf-5fbc7bf7f994",
   "metadata": {},
   "outputs": [
    {
     "data": {
      "application/vnd.jupyter.widget-view+json": {
       "model_id": "3087921ffaac40d880eca23022a5a1fb",
       "version_major": 2,
       "version_minor": 0
      },
      "text/plain": [
       "FloatProgress(value=0.0, layout=Layout(width='auto'), style=ProgressStyle(bar_color='black'))"
      ]
     },
     "metadata": {},
     "output_type": "display_data"
    },
    {
     "data": {
      "application/vnd.jupyter.widget-view+json": {
       "model_id": "018037bc2abc47e1933dede51bc7e314",
       "version_major": 2,
       "version_minor": 0
      },
      "text/plain": [
       "FloatProgress(value=0.0, layout=Layout(width='auto'), style=ProgressStyle(bar_color='black'))"
      ]
     },
     "metadata": {},
     "output_type": "display_data"
    }
   ],
   "source": [
    "%%sql santa_cruz_places <<\n",
    "-- This line uses a Jupyter magic command (%%sql) to run SQL directly in a notebook cell.\n",
    "-- The result of the query will be saved into the Python variable `santa_cruz_places`.\n",
    "\n",
    "SELECT\n",
    "    id,  -- The unique identifier of the place (each POI has a globally unique ID)\n",
    "\n",
    "    names.primary AS primary_name,  \n",
    "    -- This selects the main name of the place (e.g., \"Joe's Pizza\") \n",
    "    -- and renames the column to `primary_name` for clarity\n",
    "\n",
    "    categories.primary AS category,  \n",
    "    -- This selects the primary category label for the place \n",
    "    -- (e.g., \"restaurant\", \"school\", or could be NULL)\n",
    "\n",
    "    ST_AsText(geometry) AS geometry  \n",
    "    -- This converts the spatial geometry into a readable WKT (Well-Known Text) string \n",
    "    -- format so it's easier to view in tables or export to other tools\n",
    "\n",
    "FROM \n",
    "    read_parquet(\n",
    "        's3://overturemaps-us-west-2/release/2025-03-19.0/theme=places/type=place/*',  \n",
    "        -- This reads all POI \"places\" files from Overture Maps' March 2025 release\n",
    "        filename=true,  -- Includes the file path in the result (helps for debugging if needed)\n",
    "        hive_partitioning=1  -- Tells DuckDB to interpret directory structure as partition columns\n",
    "    )\n",
    "\n",
    "WHERE \n",
    "    bbox.xmin >= -122.07 AND bbox.xmax <= -121.97  \n",
    "    -- Filters for the minimum and maximum longitude values \n",
    "    -- (covers a small longitude window around Santa Cruz, CA)\n",
    "\n",
    "    AND bbox.ymin >= 36.93 AND bbox.ymax <= 37.02  \n",
    "    -- Filters for the minimum and maximum latitude values \n",
    "    -- (covers a small latitude window around Santa Cruz, CA)\n",
    "\n",
    "LIMIT 100;\n",
    "-- Limits the result to only 100 rows so the query runs faster and doesn't overload memory\n",
    "\n"
   ]
  },
  {
   "cell_type": "code",
   "execution_count": 23,
   "id": "2d72da52-e439-4bb0-a874-df474560d72c",
   "metadata": {},
   "outputs": [],
   "source": [
    "df = santa_cruz_places"
   ]
  },
  {
   "cell_type": "code",
   "execution_count": 24,
   "id": "31a3f534-48b8-4688-a40f-4a63dd902e59",
   "metadata": {},
   "outputs": [
    {
     "data": {
      "text/html": [
       "<div>\n",
       "<style scoped>\n",
       "    .dataframe tbody tr th:only-of-type {\n",
       "        vertical-align: middle;\n",
       "    }\n",
       "\n",
       "    .dataframe tbody tr th {\n",
       "        vertical-align: top;\n",
       "    }\n",
       "\n",
       "    .dataframe thead th {\n",
       "        text-align: right;\n",
       "    }\n",
       "</style>\n",
       "<table border=\"1\" class=\"dataframe\">\n",
       "  <thead>\n",
       "    <tr style=\"text-align: right;\">\n",
       "      <th></th>\n",
       "      <th>id</th>\n",
       "      <th>primary_name</th>\n",
       "      <th>category</th>\n",
       "      <th>geometry</th>\n",
       "    </tr>\n",
       "  </thead>\n",
       "  <tbody>\n",
       "    <tr>\n",
       "      <th>0</th>\n",
       "      <td>08f28341154f442303cb645263332c9a</td>\n",
       "      <td>Terrace Point</td>\n",
       "      <td>landmark_and_historical_building</td>\n",
       "      <td>POINT (-122.0653984 36.9484061)</td>\n",
       "    </tr>\n",
       "    <tr>\n",
       "      <th>1</th>\n",
       "      <td>08f28341154f2c0a0323274055ef3801</td>\n",
       "      <td>Long Marine Laboratory</td>\n",
       "      <td>museum</td>\n",
       "      <td>POINT (-122.0651198 36.94919)</td>\n",
       "    </tr>\n",
       "    <tr>\n",
       "      <th>2</th>\n",
       "      <td>08f28341154f2b1e0347a733dbeaeaf6</td>\n",
       "      <td>UCSC Coastal Science Campus</td>\n",
       "      <td>campus_building</td>\n",
       "      <td>POINT (-122.0652825 36.949311)</td>\n",
       "    </tr>\n",
       "    <tr>\n",
       "      <th>3</th>\n",
       "      <td>08f28341154f26b60328728031d531bd</td>\n",
       "      <td>UCSC Marine Lab And Seymour Marine Discovery C...</td>\n",
       "      <td>museum</td>\n",
       "      <td>POINT (-122.0649762 36.9492823)</td>\n",
       "    </tr>\n",
       "    <tr>\n",
       "      <th>4</th>\n",
       "      <td>08f28341154f243203bcf82dffab43fe</td>\n",
       "      <td>Seymour Marine Discovery Center</td>\n",
       "      <td>zoo</td>\n",
       "      <td>POINT (-122.0649939 36.9493289)</td>\n",
       "    </tr>\n",
       "    <tr>\n",
       "      <th>...</th>\n",
       "      <td>...</td>\n",
       "      <td>...</td>\n",
       "      <td>...</td>\n",
       "      <td>...</td>\n",
       "    </tr>\n",
       "    <tr>\n",
       "      <th>95</th>\n",
       "      <td>08f2834110198a5a031dd3da41a6bb9e</td>\n",
       "      <td>San Soo Santa Cruz</td>\n",
       "      <td>martial_arts_club</td>\n",
       "      <td>POINT (-122.04937 36.95693)</td>\n",
       "    </tr>\n",
       "    <tr>\n",
       "      <th>96</th>\n",
       "      <td>08f2834110198a5a03ca7f1f809d7e44</td>\n",
       "      <td>Santa Cruz Box Company</td>\n",
       "      <td>nursery_and_gardening</td>\n",
       "      <td>POINT (-122.04937 36.95693)</td>\n",
       "    </tr>\n",
       "    <tr>\n",
       "      <th>97</th>\n",
       "      <td>08f283411019c65c0390f0cbb1614057</td>\n",
       "      <td>Studio Holladay Weddings</td>\n",
       "      <td>professional_services</td>\n",
       "      <td>POINT (-122.049024 36.9567)</td>\n",
       "    </tr>\n",
       "    <tr>\n",
       "      <th>98</th>\n",
       "      <td>08f283411019829c031c2355435bc668</td>\n",
       "      <td>Radical Movement Factory</td>\n",
       "      <td>gym</td>\n",
       "      <td>POINT (-122.049175 36.957094)</td>\n",
       "    </tr>\n",
       "    <tr>\n",
       "      <th>99</th>\n",
       "      <td>08f283411008d7940391e5e6ed68b382</td>\n",
       "      <td>The Woodress</td>\n",
       "      <td>graphic_designer</td>\n",
       "      <td>POINT (-122.048944 36.9571241)</td>\n",
       "    </tr>\n",
       "  </tbody>\n",
       "</table>\n",
       "<p>100 rows × 4 columns</p>\n",
       "</div>"
      ],
      "text/plain": [
       "                                  id  \\\n",
       "0   08f28341154f442303cb645263332c9a   \n",
       "1   08f28341154f2c0a0323274055ef3801   \n",
       "2   08f28341154f2b1e0347a733dbeaeaf6   \n",
       "3   08f28341154f26b60328728031d531bd   \n",
       "4   08f28341154f243203bcf82dffab43fe   \n",
       "..                               ...   \n",
       "95  08f2834110198a5a031dd3da41a6bb9e   \n",
       "96  08f2834110198a5a03ca7f1f809d7e44   \n",
       "97  08f283411019c65c0390f0cbb1614057   \n",
       "98  08f283411019829c031c2355435bc668   \n",
       "99  08f283411008d7940391e5e6ed68b382   \n",
       "\n",
       "                                         primary_name  \\\n",
       "0                                       Terrace Point   \n",
       "1                              Long Marine Laboratory   \n",
       "2                         UCSC Coastal Science Campus   \n",
       "3   UCSC Marine Lab And Seymour Marine Discovery C...   \n",
       "4                     Seymour Marine Discovery Center   \n",
       "..                                                ...   \n",
       "95                                 San Soo Santa Cruz   \n",
       "96                             Santa Cruz Box Company   \n",
       "97                           Studio Holladay Weddings   \n",
       "98                           Radical Movement Factory   \n",
       "99                                       The Woodress   \n",
       "\n",
       "                            category                         geometry  \n",
       "0   landmark_and_historical_building  POINT (-122.0653984 36.9484061)  \n",
       "1                             museum    POINT (-122.0651198 36.94919)  \n",
       "2                    campus_building   POINT (-122.0652825 36.949311)  \n",
       "3                             museum  POINT (-122.0649762 36.9492823)  \n",
       "4                                zoo  POINT (-122.0649939 36.9493289)  \n",
       "..                               ...                              ...  \n",
       "95                 martial_arts_club      POINT (-122.04937 36.95693)  \n",
       "96             nursery_and_gardening      POINT (-122.04937 36.95693)  \n",
       "97             professional_services      POINT (-122.049024 36.9567)  \n",
       "98                               gym    POINT (-122.049175 36.957094)  \n",
       "99                  graphic_designer   POINT (-122.048944 36.9571241)  \n",
       "\n",
       "[100 rows x 4 columns]"
      ]
     },
     "execution_count": 24,
     "metadata": {},
     "output_type": "execute_result"
    }
   ],
   "source": [
    "df"
   ]
  },
  {
   "cell_type": "code",
   "execution_count": null,
   "id": "bf4d89e1-c921-42d6-88cb-148f94d4d5d1",
   "metadata": {},
   "outputs": [],
   "source": []
  }
 ],
 "metadata": {
  "kernelspec": {
   "display_name": "Python 3 (ipykernel)",
   "language": "python",
   "name": "python3"
  },
  "language_info": {
   "codemirror_mode": {
    "name": "ipython",
    "version": 3
   },
   "file_extension": ".py",
   "mimetype": "text/x-python",
   "name": "python",
   "nbconvert_exporter": "python",
   "pygments_lexer": "ipython3",
   "version": "3.9.7"
  }
 },
 "nbformat": 4,
 "nbformat_minor": 5
}
