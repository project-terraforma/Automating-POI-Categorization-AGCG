{
  "nbformat": 4,
  "nbformat_minor": 0,
  "metadata": {
    "colab": {
      "provenance": []
    },
    "kernelspec": {
      "name": "python3",
      "display_name": "Python 3"
    },
    "language_info": {
      "name": "python"
    }
  },
  "cells": [
    {
      "cell_type": "code",
      "source": [
        "from google.colab import files\n",
        "uploaded = files.upload()"
      ],
      "metadata": {
        "id": "Tha1kfz1m6Kc",
        "outputId": "8c3bd3e0-4281-4443-e3f0-886b93f0d310",
        "colab": {
          "base_uri": "https://localhost:8080/",
          "height": 36
        }
      },
      "execution_count": 30,
      "outputs": [
        {
          "output_type": "display_data",
          "data": {
            "text/plain": [
              "<IPython.core.display.HTML object>"
            ],
            "text/html": [
              "\n",
              "     <input type=\"file\" id=\"files-cfa065b0-7959-421f-aec4-90723ee531f5\" name=\"files[]\" multiple disabled\n",
              "        style=\"border:none\" />\n",
              "     <output id=\"result-cfa065b0-7959-421f-aec4-90723ee531f5\">\n",
              "      Upload widget is only available when the cell has been executed in the\n",
              "      current browser session. Please rerun this cell to enable.\n",
              "      </output>\n",
              "      <script>// Copyright 2017 Google LLC\n",
              "//\n",
              "// Licensed under the Apache License, Version 2.0 (the \"License\");\n",
              "// you may not use this file except in compliance with the License.\n",
              "// You may obtain a copy of the License at\n",
              "//\n",
              "//      http://www.apache.org/licenses/LICENSE-2.0\n",
              "//\n",
              "// Unless required by applicable law or agreed to in writing, software\n",
              "// distributed under the License is distributed on an \"AS IS\" BASIS,\n",
              "// WITHOUT WARRANTIES OR CONDITIONS OF ANY KIND, either express or implied.\n",
              "// See the License for the specific language governing permissions and\n",
              "// limitations under the License.\n",
              "\n",
              "/**\n",
              " * @fileoverview Helpers for google.colab Python module.\n",
              " */\n",
              "(function(scope) {\n",
              "function span(text, styleAttributes = {}) {\n",
              "  const element = document.createElement('span');\n",
              "  element.textContent = text;\n",
              "  for (const key of Object.keys(styleAttributes)) {\n",
              "    element.style[key] = styleAttributes[key];\n",
              "  }\n",
              "  return element;\n",
              "}\n",
              "\n",
              "// Max number of bytes which will be uploaded at a time.\n",
              "const MAX_PAYLOAD_SIZE = 100 * 1024;\n",
              "\n",
              "function _uploadFiles(inputId, outputId) {\n",
              "  const steps = uploadFilesStep(inputId, outputId);\n",
              "  const outputElement = document.getElementById(outputId);\n",
              "  // Cache steps on the outputElement to make it available for the next call\n",
              "  // to uploadFilesContinue from Python.\n",
              "  outputElement.steps = steps;\n",
              "\n",
              "  return _uploadFilesContinue(outputId);\n",
              "}\n",
              "\n",
              "// This is roughly an async generator (not supported in the browser yet),\n",
              "// where there are multiple asynchronous steps and the Python side is going\n",
              "// to poll for completion of each step.\n",
              "// This uses a Promise to block the python side on completion of each step,\n",
              "// then passes the result of the previous step as the input to the next step.\n",
              "function _uploadFilesContinue(outputId) {\n",
              "  const outputElement = document.getElementById(outputId);\n",
              "  const steps = outputElement.steps;\n",
              "\n",
              "  const next = steps.next(outputElement.lastPromiseValue);\n",
              "  return Promise.resolve(next.value.promise).then((value) => {\n",
              "    // Cache the last promise value to make it available to the next\n",
              "    // step of the generator.\n",
              "    outputElement.lastPromiseValue = value;\n",
              "    return next.value.response;\n",
              "  });\n",
              "}\n",
              "\n",
              "/**\n",
              " * Generator function which is called between each async step of the upload\n",
              " * process.\n",
              " * @param {string} inputId Element ID of the input file picker element.\n",
              " * @param {string} outputId Element ID of the output display.\n",
              " * @return {!Iterable<!Object>} Iterable of next steps.\n",
              " */\n",
              "function* uploadFilesStep(inputId, outputId) {\n",
              "  const inputElement = document.getElementById(inputId);\n",
              "  inputElement.disabled = false;\n",
              "\n",
              "  const outputElement = document.getElementById(outputId);\n",
              "  outputElement.innerHTML = '';\n",
              "\n",
              "  const pickedPromise = new Promise((resolve) => {\n",
              "    inputElement.addEventListener('change', (e) => {\n",
              "      resolve(e.target.files);\n",
              "    });\n",
              "  });\n",
              "\n",
              "  const cancel = document.createElement('button');\n",
              "  inputElement.parentElement.appendChild(cancel);\n",
              "  cancel.textContent = 'Cancel upload';\n",
              "  const cancelPromise = new Promise((resolve) => {\n",
              "    cancel.onclick = () => {\n",
              "      resolve(null);\n",
              "    };\n",
              "  });\n",
              "\n",
              "  // Wait for the user to pick the files.\n",
              "  const files = yield {\n",
              "    promise: Promise.race([pickedPromise, cancelPromise]),\n",
              "    response: {\n",
              "      action: 'starting',\n",
              "    }\n",
              "  };\n",
              "\n",
              "  cancel.remove();\n",
              "\n",
              "  // Disable the input element since further picks are not allowed.\n",
              "  inputElement.disabled = true;\n",
              "\n",
              "  if (!files) {\n",
              "    return {\n",
              "      response: {\n",
              "        action: 'complete',\n",
              "      }\n",
              "    };\n",
              "  }\n",
              "\n",
              "  for (const file of files) {\n",
              "    const li = document.createElement('li');\n",
              "    li.append(span(file.name, {fontWeight: 'bold'}));\n",
              "    li.append(span(\n",
              "        `(${file.type || 'n/a'}) - ${file.size} bytes, ` +\n",
              "        `last modified: ${\n",
              "            file.lastModifiedDate ? file.lastModifiedDate.toLocaleDateString() :\n",
              "                                    'n/a'} - `));\n",
              "    const percent = span('0% done');\n",
              "    li.appendChild(percent);\n",
              "\n",
              "    outputElement.appendChild(li);\n",
              "\n",
              "    const fileDataPromise = new Promise((resolve) => {\n",
              "      const reader = new FileReader();\n",
              "      reader.onload = (e) => {\n",
              "        resolve(e.target.result);\n",
              "      };\n",
              "      reader.readAsArrayBuffer(file);\n",
              "    });\n",
              "    // Wait for the data to be ready.\n",
              "    let fileData = yield {\n",
              "      promise: fileDataPromise,\n",
              "      response: {\n",
              "        action: 'continue',\n",
              "      }\n",
              "    };\n",
              "\n",
              "    // Use a chunked sending to avoid message size limits. See b/62115660.\n",
              "    let position = 0;\n",
              "    do {\n",
              "      const length = Math.min(fileData.byteLength - position, MAX_PAYLOAD_SIZE);\n",
              "      const chunk = new Uint8Array(fileData, position, length);\n",
              "      position += length;\n",
              "\n",
              "      const base64 = btoa(String.fromCharCode.apply(null, chunk));\n",
              "      yield {\n",
              "        response: {\n",
              "          action: 'append',\n",
              "          file: file.name,\n",
              "          data: base64,\n",
              "        },\n",
              "      };\n",
              "\n",
              "      let percentDone = fileData.byteLength === 0 ?\n",
              "          100 :\n",
              "          Math.round((position / fileData.byteLength) * 100);\n",
              "      percent.textContent = `${percentDone}% done`;\n",
              "\n",
              "    } while (position < fileData.byteLength);\n",
              "  }\n",
              "\n",
              "  // All done.\n",
              "  yield {\n",
              "    response: {\n",
              "      action: 'complete',\n",
              "    }\n",
              "  };\n",
              "}\n",
              "\n",
              "scope.google = scope.google || {};\n",
              "scope.google.colab = scope.google.colab || {};\n",
              "scope.google.colab._files = {\n",
              "  _uploadFiles,\n",
              "  _uploadFilesContinue,\n",
              "};\n",
              "})(self);\n",
              "</script> "
            ]
          },
          "metadata": {}
        }
      ]
    },
    {
      "cell_type": "code",
      "source": [
        "import json\n",
        "import web_scraper as webScraper\n",
        "import category_utils as util"
      ],
      "metadata": {
        "id": "-78BzrJjxAXJ"
      },
      "execution_count": 31,
      "outputs": []
    },
    {
      "cell_type": "code",
      "source": [
        "with open(\"category_tree.json\", \"r\") as f:\n",
        "    category_tree = json.load(f)"
      ],
      "metadata": {
        "id": "puxPcAuvhptg"
      },
      "execution_count": 32,
      "outputs": []
    },
    {
      "cell_type": "code",
      "source": [
        "print(\" > \".join(util.find_category_path(category_tree, \"addiction_rehabilitation_center\")))"
      ],
      "metadata": {
        "colab": {
          "base_uri": "https://localhost:8080/"
        },
        "id": "GCfQMR4nRkVA",
        "outputId": "7e26d1da-6c62-4836-e4c4-34554e6a00da"
      },
      "execution_count": 41,
      "outputs": [
        {
          "output_type": "stream",
          "name": "stdout",
          "text": [
            "health_and_medical > rehabilitation_center > addiction_rehabilitation_center\n"
          ]
        }
      ]
    },
    {
      "cell_type": "code",
      "source": [
        "find_top_level_category\n",
        "\n",
        "predicted = \"eat_and_drink\"\n",
        "true_label = \"cafe\"\n",
        "\n",
        "print(util.is_prediction_correct(predicted, true_label))\n",
        "# Should return True if \"ethiopian_restaurant\" is in the subtree of \"eat_and_drink\"\n"
      ],
      "metadata": {
        "colab": {
          "base_uri": "https://localhost:8080/"
        },
        "id": "TyVe_4_3StFR",
        "outputId": "cc0b72ce-0b68-4bab-b2b1-8ff9f086e566"
      },
      "execution_count": 28,
      "outputs": [
        {
          "output_type": "stream",
          "name": "stdout",
          "text": [
            "True\n"
          ]
        }
      ]
    },
    {
      "cell_type": "code",
      "source": [
        "import sbert_classifier as clf\n",
        "\n",
        "model = clf.SentenceTransformer('all-MiniLM-L6-v2')"
      ],
      "metadata": {
        "id": "vPfj4DwxOwge"
      },
      "execution_count": 17,
      "outputs": []
    },
    {
      "cell_type": "code",
      "source": [
        "from category_keywords import category_keywords\n",
        "\n",
        "embeddings = clf.embed_tree_nodes_by_layer(category_keywords, model)"
      ],
      "metadata": {
        "id": "YLzG6zGOPUxC"
      },
      "execution_count": 27,
      "outputs": []
    },
    {
      "cell_type": "code",
      "source": [
        "desc = \"Montessori Children's CenterMontessori Children's CenterHomeMontessori Children's Center's goal is to help children develop and nurture their intrinsic love of learning, their independence, and their sense of community.Montessori Children's CenterWelcome to Montessori Children’s CenterHere at MCC, we believe in letting the child’s spirit guide us. It is our goal to help children develop and nurture their intrinsic love of learning, their independence, and their sense of community. In the process, we hope to aid them in becoming lifelong learners.TAKE A VIRTUAL TOUR OF THE SCHOOLLocated in picturesque Parkmerced in the southwest corner of San Francisco, the school is housed in state of the art facilities in a quiet neighborhood. Founded in 1976, the MCC has been serving the children and families of San Francisco for forty years.Download our BrochureClick for more informationMontessori Children’s Center80 Juan Bautista Circle | San Francisco, CA 94132 |415.333.4410Located in the southwest corner of San Francisco, near San Francisco State University in the Parkmerced Complex.View Larger MapHome|About Us|ProgramsAdmissions|Calendar|Contact Us| CareersCopyright 2023Montessori Children’s CenterSan Francisco, CA 94132\"\n",
        "\n",
        "pred_path, top_n_per_layer, is_ambiguous, ambiguous_layers = clf.classify_with_layered_tree_top_n(\n",
        "    description = desc,\n",
        "    tree = category_keywords,\n",
        "    embeddings = embeddings,\n",
        "    model = model,\n",
        "    rule_weight = 0.6,\n",
        "    top_n = 3,\n",
        "    ambiguity_threshold = 0.1\n",
        ")\n",
        "\n",
        "print(f'Final predicted path: {pred_path}\\n')\n",
        "\n",
        "if is_ambiguous:\n",
        "    print(\"Ambiguity detected at level(s):\", [lvl + 1 for lvl in ambiguous_layers])\n",
        "    print(\"Consider fallback, user confirmation, or LLM-based disambiguation.\\n\")\n",
        "\n",
        "print(\"\\nTop candidates at each level:\")\n",
        "for level, candidates in enumerate(top_n_per_layer):\n",
        "    print(f\"Level {level + 1}:\")\n",
        "    for name, score in candidates:\n",
        "        print(f\"  {name} - score: {score:.4f}\")\n",
        "    print()\n"
      ],
      "metadata": {
        "colab": {
          "base_uri": "https://localhost:8080/"
        },
        "id": "4mZJG_I8Jsu7",
        "outputId": "25b442f2-5d39-49d3-89ed-04f899a476b6"
      },
      "execution_count": 21,
      "outputs": [
        {
          "output_type": "stream",
          "name": "stdout",
          "text": [
            "Final predicted path: education > college_university\n",
            "\n",
            "\n",
            "Top candidates at each level:\n",
            "Level 1:\n",
            "  education - score: 1.0000\n",
            "  attractions_and_activities - score: 0.0887\n",
            "  accommodation - score: 0.0749\n",
            "\n",
            "Level 2:\n",
            "  college_university - score: 1.0000\n",
            "  tutoring_center - score: 0.4568\n",
            "  educational_camp - score: 0.4455\n",
            "\n"
          ]
        }
      ]
    },
    {
      "cell_type": "code",
      "source": [],
      "metadata": {
        "id": "ulYlW-GJOvxu"
      },
      "execution_count": null,
      "outputs": []
    }
  ]
}