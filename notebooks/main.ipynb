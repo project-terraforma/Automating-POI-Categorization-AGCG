{
  "cells": [
    {
      "cell_type": "markdown",
      "metadata": {
        "id": "gALUQWsvSW8c"
      },
      "source": [
        "🔧 **Installing Dependencies**\n",
        "\n",
        "Before using Overture Maps API for fetching Place of Interest (POI) data, we need to install the overturemaps Python package. This package provides access to spatial datasets including POI, transportation, and administrative boundaries."
      ]
    },
    {
      "cell_type": "code",
      "execution_count": null,
      "metadata": {
        "colab": {
          "base_uri": "https://localhost:8080/"
        },
        "collapsed": true,
        "id": "PVmTRAZbqFxl",
        "outputId": "4b7d7fed-16a2-4065-f2c8-6fbc53d4ce09"
      },
      "outputs": [],
      "source": [
        "!pip install overturemaps"
      ]
    },
    {
      "cell_type": "markdown",
      "metadata": {
        "id": "73FU28QrSVl0"
      },
      "source": [
        "📥 **Clone Project Repository [ Google Colab Only ]**\n",
        "\n",
        "This step clones the GitHub repository containing all necessary files, including:\n",
        "\n",
        "*   Data files (category_tree.json, category_keywords.py)\n",
        "*   Helper modules for scraping, classification, and evaluation\n",
        "*   Jupyter notebooks for experimentation and testing\n",
        "\n",
        "**Note:** If you're working locally (e.g., in VSCode or JupyterLab), this step is not necessary. Just open the project directly.\n"
      ]
    },
    {
      "cell_type": "code",
      "execution_count": 15,
      "metadata": {
        "colab": {
          "base_uri": "https://localhost:8080/"
        },
        "collapsed": true,
        "id": "o3rkDRFwGmDI",
        "outputId": "b6fd684f-fb95-4644-a2b9-35309947fd6a"
      },
      "outputs": [
        {
          "name": "stdout",
          "output_type": "stream",
          "text": [
            "Cloning into 'Automating-POI-Categorization-AGCG'...\n",
            "remote: Enumerating objects: 130, done.\u001b[K\n",
            "remote: Counting objects: 100% (130/130), done.\u001b[K\n",
            "remote: Compressing objects: 100% (104/104), done.\u001b[K\n",
            "remote: Total 130 (delta 65), reused 58 (delta 22), pack-reused 0 (from 0)\u001b[K\n",
            "Receiving objects: 100% (130/130), 165.63 KiB | 4.73 MiB/s, done.\n",
            "Resolving deltas: 100% (65/65), done.\n",
            "/content/Automating-POI-Categorization-AGCG/Automating-POI-Categorization-AGCG/Automating-POI-Categorization-AGCG\n"
          ]
        }
      ],
      "source": [
        "!git clone https://github.com/project-terraforma/Automating-POI-Categorization-AGCG\n",
        "%cd Automating-POI-Categorization-AGCG"
      ]
    },
    {
      "cell_type": "markdown",
      "metadata": {
        "id": "nlcX9G3eUEtO"
      },
      "source": [
        "📁 **Add Project Folders to Python Path**\n",
        "\n",
        "This step ensures that Python can locate and import custom modules (e.g., web_scraper, category_utils) from subfolders in the project.\n",
        "\n",
        "By default, Python only searches for modules in the current directory. Since our custom code is organized into subdirectories (src, data, Testing), we manually add these to the system path using sys.path.append()."
      ]
    },
    {
      "cell_type": "code",
      "execution_count": 4,
      "metadata": {
        "id": "C_yhd7FuGnRC"
      },
      "outputs": [],
      "source": [
        "import sys, os\n",
        "project_root = os.path.abspath(\"..\")\n",
        "sys.path.append(os.path.join(project_root, \"src\"))\n",
        "sys.path.append(os.path.join(project_root, \"data\"))\n",
        "sys.path.append(os.path.join(project_root, \"Testing\"))"
      ]
    },
    {
      "cell_type": "markdown",
      "metadata": {
        "id": "dq-8VEnrUWYa"
      },
      "source": [
        "📦 **Importing Required Libraries and Custom Modules**\n",
        "\n",
        "This block sets up all necessary dependencies for data processing, classification, and evaluation:\n",
        "\n"
      ]
    },
    {
      "cell_type": "code",
      "execution_count": 16,
      "metadata": {
        "collapsed": true,
        "id": "HTdsYW7R9eNG"
      },
      "outputs": [],
      "source": [
        "# Standard libraries\n",
        "import pandas as pd              # Data manipulation\n",
        "import numpy as np               # Numerical computations\n",
        "import overturemaps              # POI dataset loader from Overture Maps\n",
        "import json                      # JSON parsing\n",
        "\n",
        "# Custom modules from the project\n",
        "import web_scraper as webScraper         # For meta/about page scraping\n",
        "import category_utils as util            # Tree navigation and validation functions\n",
        "import testing_utils as test             # Accuracy and evaluation helpers\n",
        "\n",
        "# Static keyword data\n",
        "from category_keywords import category_keywords  # Predefined keyword dictionary for boosting classification"
      ]
    },
    {
      "cell_type": "markdown",
      "metadata": {
        "id": "fLvl4QXFUxxN"
      },
      "source": [
        "📂 **Load Category Tree Structure**\n",
        "\n",
        "This block loads the hierarchical category structure from a local JSON file:\n",
        "\n",
        "\n",
        "*   **category_tree.json** defines the nested category taxonomy used for classification (e.g., education > school > preschool).\n",
        "\n",
        "*   The file path assumes your notebook is running from the project root or /notebooks folder with appropriate sys.path adjustments.\n",
        "\n",
        "*   This structure is critical for both rule-based keyword scoring and SBERT-based classification."
      ]
    },
    {
      "cell_type": "code",
      "execution_count": 6,
      "metadata": {
        "id": "2-9gCQ_jyMxt"
      },
      "outputs": [],
      "source": [
        "with open(\"data/category_tree.json\", \"r\") as f:\n",
        "    category_tree = json.load(f)"
      ]
    },
    {
      "cell_type": "markdown",
      "metadata": {
        "id": "coYdgK_cVQ3G"
      },
      "source": [
        "🌐 **Define Bounding Box and Fetch POI Data**\n",
        "\n",
        "This block defines a bounding box for a geographic region and fetches Points of Interest (POIs) from the Overture Maps dataset using the **fetch_overture_poi_data()** utility function:\n",
        "\n",
        "\n",
        "*   The bbox_sf defines a rectangular region for San Jose, CA using coordinates (min_lon, min_lat, max_lon, max_lat).\n",
        "\n",
        "*   The theme=\"place\" specifies the type of POIs to retrieve.\n",
        "\n",
        "*   The result is stored in a DataFrame containing raw POI data (name, website, tags, etc.).\n",
        "\n",
        "**Tip:** You can easily generate bounding box coordinates using [boundingbox.klokantech.com](https://boundingbox.klokantech.com/)\n",
        "\n",
        "Select your desired region on the map and copy the coordinates for use in your query.\n",
        "\n"
      ]
    },
    {
      "cell_type": "code",
      "execution_count": 7,
      "metadata": {
        "colab": {
          "base_uri": "https://localhost:8080/"
        },
        "id": "ck5vYOueUAeS",
        "outputId": "202bad09-3b8c-45dc-c4ed-80caa7c3b110"
      },
      "outputs": [
        {
          "name": "stdout",
          "output_type": "stream",
          "text": [
            "\n",
            "Bounding box: (-122.004946, 37.28487, -121.834263, 37.416253)\n",
            "Theme: 'place'\n",
            "Fetching data from Overture Maps...\n",
            "Successfully loaded 26875 POIs.\n"
          ]
        }
      ],
      "source": [
        "bbox_sf = (-122.004946,37.28487,-121.834263,37.416253)  # San Jose bounding box\n",
        "df_sf_pois = test.fetch_overture_poi_data(\"place\", bbox_sf)"
      ]
    },
    {
      "cell_type": "code",
      "execution_count": 8,
      "metadata": {
        "collapsed": true,
        "id": "gNv7sRg58xJN"
      },
      "outputs": [],
      "source": [
        "df_websites = df_sf_pois[['names', 'categories', 'websites']][df_sf_pois['websites'].notna()]"
      ]
    },
    {
      "cell_type": "markdown",
      "metadata": {
        "id": "E1VE1LBwZcUP"
      },
      "source": [
        "🕸️ **Scrape Website Descriptions**\n",
        "\n",
        "This block extracts website content (meta description or About page) for each POI entry and organizes the results in a DataFrame:\n",
        "\n",
        "\n",
        "\n",
        "*   **scrape_website_batch(...)**: Calls the scraping function to gather metadata and About text for the first 10 POIs.\n",
        "*   The function attempts to get:\n",
        "\n",
        "  *   <meta> title and description\n",
        "  *   About page content (if available)\n",
        "  *   Fallback: homepage if no About page exists\n",
        "\n",
        "\n",
        "*   Results include POI name, categories, status, and extracted text.\n",
        "*   Cleaned and structured into a DataFrame for analysis and classification."
      ]
    },
    {
      "cell_type": "code",
      "execution_count": 9,
      "metadata": {
        "colab": {
          "base_uri": "https://localhost:8080/",
          "height": 415
        },
        "collapsed": true,
        "id": "oqrwnzwkQBbT",
        "outputId": "044631dc-fdd5-4a8e-e4dd-73b49d9c3762"
      },
      "outputs": [
        {
          "name": "stdout",
          "output_type": "stream",
          "text": [
            "Processed 10 websites\n",
            "\n",
            "Scraping completed.\n"
          ]
        },
        {
          "data": {
            "application/vnd.google.colaboratory.intrinsic+json": {
              "summary": "{\n  \"name\": \"df_results\",\n  \"rows\": 10,\n  \"fields\": [\n    {\n      \"column\": \"name\",\n      \"properties\": {\n        \"dtype\": \"object\",\n        \"semantic_type\": \"\",\n        \"description\": \"\"\n      }\n    },\n    {\n      \"column\": \"category\",\n      \"properties\": {\n        \"dtype\": \"object\",\n        \"semantic_type\": \"\",\n        \"description\": \"\"\n      }\n    },\n    {\n      \"column\": \"url\",\n      \"properties\": {\n        \"dtype\": \"string\",\n        \"num_unique_values\": 9,\n        \"samples\": [\n          \"http://www.theflairapts.com\",\n          \"http://www.saratogawoods.net/\",\n          \"http://prospect.cuhsd.org/apps/email/index.jsp?e=591458925886590458865880591259265812588259185892591458845776590659125890&n=Shawn+Henebry\"\n        ],\n        \"semantic_type\": \"\",\n        \"description\": \"\"\n      }\n    },\n    {\n      \"column\": \"text\",\n      \"properties\": {\n        \"dtype\": \"string\",\n        \"num_unique_values\": 6,\n        \"samples\": [\n          \"MC GARAGE DOORSPeninsula (650) 815-8252 ~\\u00c2\\u00a0South Bay (408) 605-3311Santa Cruz County (831) 345-8104 ~\\u00c2East Bay (510) 460-0600\\u00c2CSLB Licensed, Insured, BondedMC Garage Doors -  Installations, Repair & MaintenanceServing the Entire Bay AreaContractor's License # 972711matthew@mcgaragedoors.comHomeAbout UsServicesGarage DoorsOpenersTestimonialsContact UsPrivacy PolicyAbout UsOur FamilyI have been in the garage door industry for over 23 years. \\u00c2\\u00a0I began working for another company at the age of 19, and then decided to venture off on my own. \\u00c2\\u00a0MC, stands for Matthew & Christina (my wife), is the result of my passion and our hard work. \\u00c2\\u00a0I have been blessed with nine beautiful children who each take part in the success of our company.\\u00c2\\u00a0 The youngest, motivate us to work harder, and the eldest assist in its day to day operations. Our oldest son, who was raised around garage doors, has begun his own endeavor with his very own garage door company. \\u00c2\\u00a0When we are not busy with garage doors, we enjoy travelling with our family and serving in our church.\\u00c2Our BusinessOur company is founded on integrity, trust, honesty and professionalism.\\u00c2\\u00a0 You can rest assured that when you call MC Garage Doors, your garage door will be serviced by a professional who knows what they're doing.\\u00c2\\u00a0 We don't leave a job until we are sure that your problem is fixed and your garage door is safe.\\u00c2\\u00a0 We strive to meet every customer's needs and make your satisfaction our #1 priority.\\u00c2\\u00a0 We make it convenient for you to service your garage door by offering 'round the clock, 24 hour service at NO additional cost.\\u00c2\\u00a0 Another reason why you should make MC Garage Doors YOUR garage door company!At\\u00c2\\u00a0the site of a recent custom door install in San JoseCopyright 2009All rights reserved.MC Garage Doors -  Installations, Repair & MaintenanceServing the Entire Bay AreaContractor's License # 972711matthew@mcgaragedoors.com\",\n          \"MenuLog inHomeAboutHistoryBoardEmploymentPhoto GallerySwimmingSwim TeamSwim LessonsLap and Recreational SwimSocialSWCA EventsClubhouseCalendarPool HoursSwim Team CalendarClubhouse CalendarSocial CalendarVolunteer Sign-Up CalendarCombined CalendarJoinContactLog inHomeAboutHistoryBoardEmploymentPhoto GallerySwimmingSwim TeamSwim LessonsLap and Recreational SwimSocialSWCA EventsClubhouseCalendarPool HoursSwim Team CalendarClubhouse CalendarSocial CalendarVolunteer Sign-Up CalendarCombined CalendarJoinContactCONTACT12341 Saratoga Creek DriveSaratoga, CA 95070Clubhouse:\\u00a0(408) 973-8195Voicemail:\\u00a0(408) 213-7472Email:swcabod@gmail.comPOOL HOURSPOOL CALENDARSEE ALL SWCA EVENTSSARATOGA WOODS IN THE NEWSOur sense of community makes the headlines!\\u201cIt\\u2019s an incredible place to live and an ideal way to raise a family.\\u201d-The Mercury NewsREAD MORECopyright SWCA 2024 - All Rights ReservedPowered byWild ApricotMembership Software\",\n          \"Saratoga Library | Santa Clara County Library District\\nSaratoga Library\\n\\t\\n    Hours &amp;amp; Information\\n                        Open today until 6:00pm\\n                        \\n          \\u2026\\n20May2025CategoriesView all cards inAdultsView all cards inKidsSimilar Posts for YouThe History and Legacy ofJuneteenthJun 6, 2025Appreciate Audiobooks thisJuneJun 4, 2025PRIDE Month@SCCLDMay 30, 2025Libraries Closed May 26 in Honor of MemorialDayMay 12, 2025Level Up Your Summer: Join the Summer ReadingProgram!May 6, 2025Have you ever wondered what the Santa Clara County Library District (SCCLD) children's rooms would look like if they were transformed into an enchanted children's storybook? You are about to find out!\\u00a0 Details will be provided here for each library while under construction. For more information about Storybook SCCLD early learning play spaces, visitsccld.org/storybooksccld.MILPITAS LIBRARY- RAILWAY ROLLICK:GRAND OPENING SATURDAY, JUNE 14 @ 10amChildren's Room will be closed to the public starting April 7, 2025Children's materials will be available in the library courtyard during constructionChildren's materials from other libraries in the Santa Clara County Library District can be placed on hold and picked up at the Milpitas LibraryCUPERTINO LIBRARY, LOS ALTOS LIBRARY, CAMPBELL LIBRARY: Coming Fall 2025STORYBOOK SCCLD PLAY SPACES NOW OPEN:Saratoga Library Redwood Romp is NOW OPENMorgan Hill Library Trusty Trails is NOW OPENGilroy Library Earthen Excursion is NOW OPEN!Discover New PostsCloseOpenThe History and Legacy of JuneteenthAdultsSchool Age KidsTeensBiography & True StoriesGovernment & PoliticsCloseOpenJune is Audiobook Appreciation Month!AdultsKidsTeensCloseOpenPRIDE Month @ SCCLDAdultsOlder AdultsGovernment & PoliticsPowered by BiblioCommons.BiblioWeb: webapp04 Version 4.27.0 Last updated 2025/05/27 09:32\"\n        ],\n        \"semantic_type\": \"\",\n        \"description\": \"\"\n      }\n    },\n    {\n      \"column\": \"status\",\n      \"properties\": {\n        \"dtype\": \"category\",\n        \"num_unique_values\": 2,\n        \"samples\": [\n          \"no_valid_text\",\n          \"success\"\n        ],\n        \"semantic_type\": \"\",\n        \"description\": \"\"\n      }\n    },\n    {\n      \"column\": \"source\",\n      \"properties\": {\n        \"dtype\": \"object\",\n        \"semantic_type\": \"\",\n        \"description\": \"\"\n      }\n    }\n  ]\n}",
              "type": "dataframe",
              "variable_name": "df_results"
            },
            "text/html": [
              "\n",
              "  <div id=\"df-a76df020-8cdf-4bca-9b54-4d4d5b685272\" class=\"colab-df-container\">\n",
              "    <div>\n",
              "<style scoped>\n",
              "    .dataframe tbody tr th:only-of-type {\n",
              "        vertical-align: middle;\n",
              "    }\n",
              "\n",
              "    .dataframe tbody tr th {\n",
              "        vertical-align: top;\n",
              "    }\n",
              "\n",
              "    .dataframe thead th {\n",
              "        text-align: right;\n",
              "    }\n",
              "</style>\n",
              "<table border=\"1\" class=\"dataframe\">\n",
              "  <thead>\n",
              "    <tr style=\"text-align: right;\">\n",
              "      <th></th>\n",
              "      <th>name</th>\n",
              "      <th>category</th>\n",
              "      <th>url</th>\n",
              "      <th>text</th>\n",
              "      <th>status</th>\n",
              "      <th>source</th>\n",
              "    </tr>\n",
              "  </thead>\n",
              "  <tbody>\n",
              "    <tr>\n",
              "      <th>0</th>\n",
              "      <td>{'primary': 'MC GARAGE DOORS', 'common': None,...</td>\n",
              "      <td>{'primary': 'online_shop', 'alternate': ['rest...</td>\n",
              "      <td>http://www.mcgaragedoors.com/</td>\n",
              "      <td>MC GARAGE DOORSPeninsula (650) 815-8252 ~Â Sou...</td>\n",
              "      <td>success</td>\n",
              "      <td>[about]</td>\n",
              "    </tr>\n",
              "    <tr>\n",
              "      <th>1</th>\n",
              "      <td>{'primary': 'Saratoga Woods Community Associat...</td>\n",
              "      <td>{'primary': 'community_services_non_profits', ...</td>\n",
              "      <td>http://www.saratogawoods.net/</td>\n",
              "      <td>MenuLog inHomeAboutHistoryBoardEmploymentPhoto...</td>\n",
              "      <td>success</td>\n",
              "      <td>[about]</td>\n",
              "    </tr>\n",
              "    <tr>\n",
              "      <th>2</th>\n",
              "      <td>{'primary': 'Base Builders, Inc.', 'common': N...</td>\n",
              "      <td>{'primary': 'building_contractor', 'alternate'...</td>\n",
              "      <td></td>\n",
              "      <td></td>\n",
              "      <td>no_valid_text</td>\n",
              "      <td>[]</td>\n",
              "    </tr>\n",
              "    <tr>\n",
              "      <th>3</th>\n",
              "      <td>{'primary': 'R&amp;W Hometree', 'common': None, 'r...</td>\n",
              "      <td>{'primary': 'arts_and_entertainment', 'alterna...</td>\n",
              "      <td>http://gallery.me.com/hightidetech/100122/Home...</td>\n",
              "      <td></td>\n",
              "      <td>no_valid_text</td>\n",
              "      <td>[]</td>\n",
              "    </tr>\n",
              "    <tr>\n",
              "      <th>4</th>\n",
              "      <td>{'primary': 'NYT Shared Service Center Inc', '...</td>\n",
              "      <td>{'primary': 'information_technology_company', ...</td>\n",
              "      <td></td>\n",
              "      <td></td>\n",
              "      <td>no_valid_text</td>\n",
              "      <td>[]</td>\n",
              "    </tr>\n",
              "    <tr>\n",
              "      <th>5</th>\n",
              "      <td>{'primary': 'FRC Team 2813: Gear Heads', 'comm...</td>\n",
              "      <td>{'primary': 'b2b_science_and_technology', 'alt...</td>\n",
              "      <td>https://team2813.com/</td>\n",
              "      <td>Skip to contentHomeAboutAbout UsStudent Leader...</td>\n",
              "      <td>success</td>\n",
              "      <td>[about]</td>\n",
              "    </tr>\n",
              "    <tr>\n",
              "      <th>6</th>\n",
              "      <td>{'primary': 'Prospect High School', 'common': ...</td>\n",
              "      <td>{'primary': 'high_school', 'alternate': ['educ...</td>\n",
              "      <td>http://prospect.cuhsd.org/apps/email/index.jsp...</td>\n",
              "      <td>Contact | Prospect High School\\nThe Campbell U...</td>\n",
              "      <td>success</td>\n",
              "      <td>[meta]</td>\n",
              "    </tr>\n",
              "    <tr>\n",
              "      <th>7</th>\n",
              "      <td>{'primary': 'Football Field', 'common': None, ...</td>\n",
              "      <td>{'primary': 'school_sports_team', 'alternate':...</td>\n",
              "      <td>https://linktr.ee/prospectfootball</td>\n",
              "      <td></td>\n",
              "      <td>no_valid_text</td>\n",
              "      <td>[]</td>\n",
              "    </tr>\n",
              "    <tr>\n",
              "      <th>8</th>\n",
              "      <td>{'primary': 'Flair Apartments', 'common': None...</td>\n",
              "      <td>{'primary': 'landmark_and_historical_building'...</td>\n",
              "      <td>http://www.theflairapts.com</td>\n",
              "      <td></td>\n",
              "      <td>no_valid_text</td>\n",
              "      <td>[]</td>\n",
              "    </tr>\n",
              "    <tr>\n",
              "      <th>9</th>\n",
              "      <td>{'primary': 'Saratoga Periodontics &amp; Implants'...</td>\n",
              "      <td>{'primary': 'dentist', 'alternate': ['periodon...</td>\n",
              "      <td>http://www.sccl.org/saratoga</td>\n",
              "      <td>Saratoga Library | Santa Clara County Library ...</td>\n",
              "      <td>success</td>\n",
              "      <td>[meta, about]</td>\n",
              "    </tr>\n",
              "  </tbody>\n",
              "</table>\n",
              "</div>\n",
              "    <div class=\"colab-df-buttons\">\n",
              "\n",
              "  <div class=\"colab-df-container\">\n",
              "    <button class=\"colab-df-convert\" onclick=\"convertToInteractive('df-a76df020-8cdf-4bca-9b54-4d4d5b685272')\"\n",
              "            title=\"Convert this dataframe to an interactive table.\"\n",
              "            style=\"display:none;\">\n",
              "\n",
              "  <svg xmlns=\"http://www.w3.org/2000/svg\" height=\"24px\" viewBox=\"0 -960 960 960\">\n",
              "    <path d=\"M120-120v-720h720v720H120Zm60-500h600v-160H180v160Zm220 220h160v-160H400v160Zm0 220h160v-160H400v160ZM180-400h160v-160H180v160Zm440 0h160v-160H620v160ZM180-180h160v-160H180v160Zm440 0h160v-160H620v160Z\"/>\n",
              "  </svg>\n",
              "    </button>\n",
              "\n",
              "  <style>\n",
              "    .colab-df-container {\n",
              "      display:flex;\n",
              "      gap: 12px;\n",
              "    }\n",
              "\n",
              "    .colab-df-convert {\n",
              "      background-color: #E8F0FE;\n",
              "      border: none;\n",
              "      border-radius: 50%;\n",
              "      cursor: pointer;\n",
              "      display: none;\n",
              "      fill: #1967D2;\n",
              "      height: 32px;\n",
              "      padding: 0 0 0 0;\n",
              "      width: 32px;\n",
              "    }\n",
              "\n",
              "    .colab-df-convert:hover {\n",
              "      background-color: #E2EBFA;\n",
              "      box-shadow: 0px 1px 2px rgba(60, 64, 67, 0.3), 0px 1px 3px 1px rgba(60, 64, 67, 0.15);\n",
              "      fill: #174EA6;\n",
              "    }\n",
              "\n",
              "    .colab-df-buttons div {\n",
              "      margin-bottom: 4px;\n",
              "    }\n",
              "\n",
              "    [theme=dark] .colab-df-convert {\n",
              "      background-color: #3B4455;\n",
              "      fill: #D2E3FC;\n",
              "    }\n",
              "\n",
              "    [theme=dark] .colab-df-convert:hover {\n",
              "      background-color: #434B5C;\n",
              "      box-shadow: 0px 1px 3px 1px rgba(0, 0, 0, 0.15);\n",
              "      filter: drop-shadow(0px 1px 2px rgba(0, 0, 0, 0.3));\n",
              "      fill: #FFFFFF;\n",
              "    }\n",
              "  </style>\n",
              "\n",
              "    <script>\n",
              "      const buttonEl =\n",
              "        document.querySelector('#df-a76df020-8cdf-4bca-9b54-4d4d5b685272 button.colab-df-convert');\n",
              "      buttonEl.style.display =\n",
              "        google.colab.kernel.accessAllowed ? 'block' : 'none';\n",
              "\n",
              "      async function convertToInteractive(key) {\n",
              "        const element = document.querySelector('#df-a76df020-8cdf-4bca-9b54-4d4d5b685272');\n",
              "        const dataTable =\n",
              "          await google.colab.kernel.invokeFunction('convertToInteractive',\n",
              "                                                    [key], {});\n",
              "        if (!dataTable) return;\n",
              "\n",
              "        const docLinkHtml = 'Like what you see? Visit the ' +\n",
              "          '<a target=\"_blank\" href=https://colab.research.google.com/notebooks/data_table.ipynb>data table notebook</a>'\n",
              "          + ' to learn more about interactive tables.';\n",
              "        element.innerHTML = '';\n",
              "        dataTable['output_type'] = 'display_data';\n",
              "        await google.colab.output.renderOutput(dataTable, element);\n",
              "        const docLink = document.createElement('div');\n",
              "        docLink.innerHTML = docLinkHtml;\n",
              "        element.appendChild(docLink);\n",
              "      }\n",
              "    </script>\n",
              "  </div>\n",
              "\n",
              "\n",
              "    <div id=\"df-2ec8a9a9-4d8d-4f5e-b92d-386abcb7326c\">\n",
              "      <button class=\"colab-df-quickchart\" onclick=\"quickchart('df-2ec8a9a9-4d8d-4f5e-b92d-386abcb7326c')\"\n",
              "                title=\"Suggest charts\"\n",
              "                style=\"display:none;\">\n",
              "\n",
              "<svg xmlns=\"http://www.w3.org/2000/svg\" height=\"24px\"viewBox=\"0 0 24 24\"\n",
              "     width=\"24px\">\n",
              "    <g>\n",
              "        <path d=\"M19 3H5c-1.1 0-2 .9-2 2v14c0 1.1.9 2 2 2h14c1.1 0 2-.9 2-2V5c0-1.1-.9-2-2-2zM9 17H7v-7h2v7zm4 0h-2V7h2v10zm4 0h-2v-4h2v4z\"/>\n",
              "    </g>\n",
              "</svg>\n",
              "      </button>\n",
              "\n",
              "<style>\n",
              "  .colab-df-quickchart {\n",
              "      --bg-color: #E8F0FE;\n",
              "      --fill-color: #1967D2;\n",
              "      --hover-bg-color: #E2EBFA;\n",
              "      --hover-fill-color: #174EA6;\n",
              "      --disabled-fill-color: #AAA;\n",
              "      --disabled-bg-color: #DDD;\n",
              "  }\n",
              "\n",
              "  [theme=dark] .colab-df-quickchart {\n",
              "      --bg-color: #3B4455;\n",
              "      --fill-color: #D2E3FC;\n",
              "      --hover-bg-color: #434B5C;\n",
              "      --hover-fill-color: #FFFFFF;\n",
              "      --disabled-bg-color: #3B4455;\n",
              "      --disabled-fill-color: #666;\n",
              "  }\n",
              "\n",
              "  .colab-df-quickchart {\n",
              "    background-color: var(--bg-color);\n",
              "    border: none;\n",
              "    border-radius: 50%;\n",
              "    cursor: pointer;\n",
              "    display: none;\n",
              "    fill: var(--fill-color);\n",
              "    height: 32px;\n",
              "    padding: 0;\n",
              "    width: 32px;\n",
              "  }\n",
              "\n",
              "  .colab-df-quickchart:hover {\n",
              "    background-color: var(--hover-bg-color);\n",
              "    box-shadow: 0 1px 2px rgba(60, 64, 67, 0.3), 0 1px 3px 1px rgba(60, 64, 67, 0.15);\n",
              "    fill: var(--button-hover-fill-color);\n",
              "  }\n",
              "\n",
              "  .colab-df-quickchart-complete:disabled,\n",
              "  .colab-df-quickchart-complete:disabled:hover {\n",
              "    background-color: var(--disabled-bg-color);\n",
              "    fill: var(--disabled-fill-color);\n",
              "    box-shadow: none;\n",
              "  }\n",
              "\n",
              "  .colab-df-spinner {\n",
              "    border: 2px solid var(--fill-color);\n",
              "    border-color: transparent;\n",
              "    border-bottom-color: var(--fill-color);\n",
              "    animation:\n",
              "      spin 1s steps(1) infinite;\n",
              "  }\n",
              "\n",
              "  @keyframes spin {\n",
              "    0% {\n",
              "      border-color: transparent;\n",
              "      border-bottom-color: var(--fill-color);\n",
              "      border-left-color: var(--fill-color);\n",
              "    }\n",
              "    20% {\n",
              "      border-color: transparent;\n",
              "      border-left-color: var(--fill-color);\n",
              "      border-top-color: var(--fill-color);\n",
              "    }\n",
              "    30% {\n",
              "      border-color: transparent;\n",
              "      border-left-color: var(--fill-color);\n",
              "      border-top-color: var(--fill-color);\n",
              "      border-right-color: var(--fill-color);\n",
              "    }\n",
              "    40% {\n",
              "      border-color: transparent;\n",
              "      border-right-color: var(--fill-color);\n",
              "      border-top-color: var(--fill-color);\n",
              "    }\n",
              "    60% {\n",
              "      border-color: transparent;\n",
              "      border-right-color: var(--fill-color);\n",
              "    }\n",
              "    80% {\n",
              "      border-color: transparent;\n",
              "      border-right-color: var(--fill-color);\n",
              "      border-bottom-color: var(--fill-color);\n",
              "    }\n",
              "    90% {\n",
              "      border-color: transparent;\n",
              "      border-bottom-color: var(--fill-color);\n",
              "    }\n",
              "  }\n",
              "</style>\n",
              "\n",
              "      <script>\n",
              "        async function quickchart(key) {\n",
              "          const quickchartButtonEl =\n",
              "            document.querySelector('#' + key + ' button');\n",
              "          quickchartButtonEl.disabled = true;  // To prevent multiple clicks.\n",
              "          quickchartButtonEl.classList.add('colab-df-spinner');\n",
              "          try {\n",
              "            const charts = await google.colab.kernel.invokeFunction(\n",
              "                'suggestCharts', [key], {});\n",
              "          } catch (error) {\n",
              "            console.error('Error during call to suggestCharts:', error);\n",
              "          }\n",
              "          quickchartButtonEl.classList.remove('colab-df-spinner');\n",
              "          quickchartButtonEl.classList.add('colab-df-quickchart-complete');\n",
              "        }\n",
              "        (() => {\n",
              "          let quickchartButtonEl =\n",
              "            document.querySelector('#df-2ec8a9a9-4d8d-4f5e-b92d-386abcb7326c button');\n",
              "          quickchartButtonEl.style.display =\n",
              "            google.colab.kernel.accessAllowed ? 'block' : 'none';\n",
              "        })();\n",
              "      </script>\n",
              "    </div>\n",
              "\n",
              "  <div id=\"id_3ed338d4-e687-4371-93c6-00dc701207ab\">\n",
              "    <style>\n",
              "      .colab-df-generate {\n",
              "        background-color: #E8F0FE;\n",
              "        border: none;\n",
              "        border-radius: 50%;\n",
              "        cursor: pointer;\n",
              "        display: none;\n",
              "        fill: #1967D2;\n",
              "        height: 32px;\n",
              "        padding: 0 0 0 0;\n",
              "        width: 32px;\n",
              "      }\n",
              "\n",
              "      .colab-df-generate:hover {\n",
              "        background-color: #E2EBFA;\n",
              "        box-shadow: 0px 1px 2px rgba(60, 64, 67, 0.3), 0px 1px 3px 1px rgba(60, 64, 67, 0.15);\n",
              "        fill: #174EA6;\n",
              "      }\n",
              "\n",
              "      [theme=dark] .colab-df-generate {\n",
              "        background-color: #3B4455;\n",
              "        fill: #D2E3FC;\n",
              "      }\n",
              "\n",
              "      [theme=dark] .colab-df-generate:hover {\n",
              "        background-color: #434B5C;\n",
              "        box-shadow: 0px 1px 3px 1px rgba(0, 0, 0, 0.15);\n",
              "        filter: drop-shadow(0px 1px 2px rgba(0, 0, 0, 0.3));\n",
              "        fill: #FFFFFF;\n",
              "      }\n",
              "    </style>\n",
              "    <button class=\"colab-df-generate\" onclick=\"generateWithVariable('df_results')\"\n",
              "            title=\"Generate code using this dataframe.\"\n",
              "            style=\"display:none;\">\n",
              "\n",
              "  <svg xmlns=\"http://www.w3.org/2000/svg\" height=\"24px\"viewBox=\"0 0 24 24\"\n",
              "       width=\"24px\">\n",
              "    <path d=\"M7,19H8.4L18.45,9,17,7.55,7,17.6ZM5,21V16.75L18.45,3.32a2,2,0,0,1,2.83,0l1.4,1.43a1.91,1.91,0,0,1,.58,1.4,1.91,1.91,0,0,1-.58,1.4L9.25,21ZM18.45,9,17,7.55Zm-12,3A5.31,5.31,0,0,0,4.9,8.1,5.31,5.31,0,0,0,1,6.5,5.31,5.31,0,0,0,4.9,4.9,5.31,5.31,0,0,0,6.5,1,5.31,5.31,0,0,0,8.1,4.9,5.31,5.31,0,0,0,12,6.5,5.46,5.46,0,0,0,6.5,12Z\"/>\n",
              "  </svg>\n",
              "    </button>\n",
              "    <script>\n",
              "      (() => {\n",
              "      const buttonEl =\n",
              "        document.querySelector('#id_3ed338d4-e687-4371-93c6-00dc701207ab button.colab-df-generate');\n",
              "      buttonEl.style.display =\n",
              "        google.colab.kernel.accessAllowed ? 'block' : 'none';\n",
              "\n",
              "      buttonEl.onclick = () => {\n",
              "        google.colab.notebook.generateWithVariable('df_results');\n",
              "      }\n",
              "      })();\n",
              "    </script>\n",
              "  </div>\n",
              "\n",
              "    </div>\n",
              "  </div>\n"
            ],
            "text/plain": [
              "                                                name  \\\n",
              "0  {'primary': 'MC GARAGE DOORS', 'common': None,...   \n",
              "1  {'primary': 'Saratoga Woods Community Associat...   \n",
              "2  {'primary': 'Base Builders, Inc.', 'common': N...   \n",
              "3  {'primary': 'R&W Hometree', 'common': None, 'r...   \n",
              "4  {'primary': 'NYT Shared Service Center Inc', '...   \n",
              "5  {'primary': 'FRC Team 2813: Gear Heads', 'comm...   \n",
              "6  {'primary': 'Prospect High School', 'common': ...   \n",
              "7  {'primary': 'Football Field', 'common': None, ...   \n",
              "8  {'primary': 'Flair Apartments', 'common': None...   \n",
              "9  {'primary': 'Saratoga Periodontics & Implants'...   \n",
              "\n",
              "                                            category  \\\n",
              "0  {'primary': 'online_shop', 'alternate': ['rest...   \n",
              "1  {'primary': 'community_services_non_profits', ...   \n",
              "2  {'primary': 'building_contractor', 'alternate'...   \n",
              "3  {'primary': 'arts_and_entertainment', 'alterna...   \n",
              "4  {'primary': 'information_technology_company', ...   \n",
              "5  {'primary': 'b2b_science_and_technology', 'alt...   \n",
              "6  {'primary': 'high_school', 'alternate': ['educ...   \n",
              "7  {'primary': 'school_sports_team', 'alternate':...   \n",
              "8  {'primary': 'landmark_and_historical_building'...   \n",
              "9  {'primary': 'dentist', 'alternate': ['periodon...   \n",
              "\n",
              "                                                 url  \\\n",
              "0                      http://www.mcgaragedoors.com/   \n",
              "1                      http://www.saratogawoods.net/   \n",
              "2                                                      \n",
              "3  http://gallery.me.com/hightidetech/100122/Home...   \n",
              "4                                                      \n",
              "5                              https://team2813.com/   \n",
              "6  http://prospect.cuhsd.org/apps/email/index.jsp...   \n",
              "7                 https://linktr.ee/prospectfootball   \n",
              "8                        http://www.theflairapts.com   \n",
              "9                       http://www.sccl.org/saratoga   \n",
              "\n",
              "                                                text         status  \\\n",
              "0  MC GARAGE DOORSPeninsula (650) 815-8252 ~Â Sou...        success   \n",
              "1  MenuLog inHomeAboutHistoryBoardEmploymentPhoto...        success   \n",
              "2                                                     no_valid_text   \n",
              "3                                                     no_valid_text   \n",
              "4                                                     no_valid_text   \n",
              "5  Skip to contentHomeAboutAbout UsStudent Leader...        success   \n",
              "6  Contact | Prospect High School\\nThe Campbell U...        success   \n",
              "7                                                     no_valid_text   \n",
              "8                                                     no_valid_text   \n",
              "9  Saratoga Library | Santa Clara County Library ...        success   \n",
              "\n",
              "          source  \n",
              "0        [about]  \n",
              "1        [about]  \n",
              "2             []  \n",
              "3             []  \n",
              "4             []  \n",
              "5        [about]  \n",
              "6         [meta]  \n",
              "7             []  \n",
              "8             []  \n",
              "9  [meta, about]  "
            ]
          },
          "execution_count": 9,
          "metadata": {},
          "output_type": "execute_result"
        }
      ],
      "source": [
        "results = test.scrape_website_batch(df_websites, webScraper, 10)\n",
        "df_results = pd.DataFrame(results)\n",
        "df_results"
      ]
    },
    {
      "cell_type": "markdown",
      "metadata": {
        "id": "q7Y9kDA6ZYpq"
      },
      "source": [
        "🤖 **Load SentenceTransformer Model**\n",
        "\n",
        "This block initializes the sentence embedding model used for category classification:\n",
        "\n",
        "*   Uses the all-MiniLM-L6-v2 model from sentence-transformers.\n",
        "*   This model converts POI descriptions (text) into dense vector embeddings.\n",
        "*   These embeddings are compared to the tree structure to determine the best-fitting category.\n",
        "*   Custom classifier logic using SBERT is stored in sbert_classifier.py.\n",
        "\n",
        "\n"
      ]
    },
    {
      "cell_type": "code",
      "execution_count": 11,
      "metadata": {
        "id": "zX4PWVC_yQRV"
      },
      "outputs": [],
      "source": [
        "import sbert_classifier as clf\n",
        "\n",
        "model = clf.SentenceTransformer('all-MiniLM-L6-v2')"
      ]
    },
    {
      "cell_type": "markdown",
      "metadata": {
        "id": "PPI4gjwNa1LS"
      },
      "source": [
        "🌲 **Generate Tree Embeddings for Classification**\n",
        "\n",
        "*   This step encodes all nodes in the category tree (category_keywords) using the sentence transformer model (model).\n",
        "*   Each category label is transformed into a vector embedding.\n",
        "*   These embeddings are used later to compare with description vectors for classification.\n",
        "*   This helps enable semantic similarity comparisons at every tree level.\n"
      ]
    },
    {
      "cell_type": "code",
      "execution_count": 12,
      "metadata": {
        "id": "YAL9AocGyQsp"
      },
      "outputs": [],
      "source": [
        "embeddings = clf.embed_tree_nodes_by_layer(category_keywords, model)"
      ]
    },
    {
      "cell_type": "markdown",
      "metadata": {
        "id": "ADS-v673bn7t"
      },
      "source": [
        "✅ **Evaluate Prediction Accuracy**\n",
        "\n",
        "- **Purpose:** Computes how well our classifier performs on real scraped POI descriptions.\n",
        "\n",
        "- Compares predicted category paths against ground truth categories (primary & alternates).\n",
        "\n",
        "- Loops through all entries with status \"success\" and evaluates top-level match.\n",
        "\n",
        "- Returns an enriched DataFrame with \"predicted\", \"matches\" (True/False), and summary stats.\n",
        "\n",
        "- **verbose=True:** Prints detailed evaluation progress and match statistics."
      ]
    },
    {
      "cell_type": "code",
      "execution_count": null,
      "metadata": {
        "colab": {
          "base_uri": "https://localhost:8080/",
          "height": 211
        },
        "collapsed": true,
        "id": "J1Qgbs-ax9T_",
        "outputId": "b684af29-6276-48a3-8ae5-452908f8f821"
      },
      "outputs": [],
      "source": [
        "evaluated = test.evaluate_prediction_accuracy(\n",
        "    results_df=pd.DataFrame(results),\n",
        "    model=model,\n",
        "    tree=category_keywords,\n",
        "    embeddings=embeddings,\n",
        "    clf_module=clf,\n",
        "    util_module=util,\n",
        "    test_module=test,\n",
        "    verbose=True\n",
        ")"
      ]
    },
    {
      "cell_type": "code",
      "execution_count": null,
      "metadata": {
        "id": "GkhAyVhXSQWs"
      },
      "outputs": [],
      "source": [
        "df_eval = pd.DataFrame(evaluated)\n",
        "display(df_eval.head())"
      ]
    }
  ],
  "metadata": {
    "colab": {
      "provenance": []
    },
    "kernelspec": {
      "display_name": "Python 3",
      "name": "python3"
    },
    "language_info": {
      "name": "python"
    }
  },
  "nbformat": 4,
  "nbformat_minor": 0
}
